{
 "cells": [
  {
   "cell_type": "code",
   "execution_count": 5,
   "metadata": {},
   "outputs": [
    {
     "name": "stdout",
     "output_type": "stream",
     "text": [
      "WARNING:tensorflow:5 out of the last 5 calls to <function Model.make_predict_function.<locals>.predict_function at 0x7fe51152fc10> triggered tf.function retracing. Tracing is expensive and the excessive number of tracings could be due to (1) creating @tf.function repeatedly in a loop, (2) passing tensors with different shapes, (3) passing Python objects instead of tensors. For (1), please define your @tf.function outside of the loop. For (2), @tf.function has experimental_relax_shapes=True option that relaxes argument shapes that can avoid unnecessary retracing. For (3), please refer to https://www.tensorflow.org/guide/function#controlling_retracing and https://www.tensorflow.org/api_docs/python/tf/function for  more details.\n",
      "[[8.6281221e-07 2.6284326e-08 3.5646173e-07 3.8331888e-07 6.1338540e-07\n",
      "  6.1038169e-03 7.7799314e-07 2.6241478e-02 5.9456226e-05 9.6759230e-01]]\n",
      "[9]\n"
     ]
    },
    {
     "data": {
      "text/plain": [
       "array([9, 2, 1, ..., 8, 1, 5], dtype=uint8)"
      ]
     },
     "execution_count": 5,
     "metadata": {},
     "output_type": "execute_result"
    }
   ],
   "source": [
    "import os\n",
    "import numpy as np\n",
    "from tensorflow.keras.models import load_model\n",
    "from tf_explain.callbacks.grad_cam import GradCAMCallback\n",
    "from training import get_data\n",
    "from params import label_name\n",
    "data_name = 'fashion_mnist'\n",
    "train_X, train_y, test_X, test_y = get_data(data_name=data_name)\n",
    "MODEL_DIR = 'models_repo'\n",
    "version = 1\n",
    "export_path = os.path.join(MODEL_DIR, str(version))\n",
    "model = load_model('model_repo/model1')\n",
    "x = test_X[0].reshape(1, 28, 28, 1)\n",
    "y_ = test_y[0]\n",
    "grad_cam_callback = GradCAMCallback(\n",
    "        validation_data=(x, y_),\n",
    "        layer_name='conv2d_layer_3',\n",
    "        class_index=0,\n",
    "        output_dir='logs/fit/grad_cam_pred')\n",
    "\n",
    "y = model.predict(x, callbacks=grad_cam_callback)\n",
    "y_label = np.argmax(y, axis=1)\n",
    "print(y)\n",
    "print(y_label)\n",
    "label = int(y_label[0])\n",
    "print(label_name(label))\n",
    "test_y"
   ]
  }
 ],
 "metadata": {
  "interpreter": {
   "hash": "50acb77785680e7eed7a116a61dcb469a9da0d7bf8b84f086ae254359e41c67f"
  },
  "kernelspec": {
   "display_name": "Python 3.8.4 64-bit ('venv': venv)",
   "name": "python3"
  },
  "language_info": {
   "codemirror_mode": {
    "name": "ipython",
    "version": 3
   },
   "file_extension": ".py",
   "mimetype": "text/x-python",
   "name": "python",
   "nbconvert_exporter": "python",
   "pygments_lexer": "ipython3",
   "version": "3.8.4"
  },
  "orig_nbformat": 4
 },
 "nbformat": 4,
 "nbformat_minor": 2
}