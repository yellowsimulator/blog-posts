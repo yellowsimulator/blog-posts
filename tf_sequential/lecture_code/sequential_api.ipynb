{
 "cells": [
  {
   "cell_type": "markdown",
   "metadata": {},
   "source": [
    "# Introduction\n",
    "This is the first section of the series \"Three ways to build deep learning model in tensorflow\".<br>\n",
    "In this section you will learn about the sequential API. This API allows you to build deep learning model <br>\n",
    "by stacking layers on top of each other. You will learn how to use it, when to use it and when not to use it.<br>\n",
    "In this section you will train a classifier to predict the type of wine (red or white)<br>\n",
    "based on the wine characteristics, all with tensorflow sequential API."
   ]
  },
  {
   "cell_type": "markdown",
   "metadata": {},
   "source": [
    "# Import libraries\n"
   ]
  },
  {
   "cell_type": "code",
   "execution_count": 1,
   "metadata": {},
   "outputs": [],
   "source": [
    "from tensorflow.keras.models import Sequential\n",
    "import tensorflow as tf\n",
    "from tensorflow.keras.layers import Dense, Flatten\n",
    "from tensorflow.keras.utils import plot_model\n",
    "%load_ext tensorboard"
   ]
  },
  {
   "cell_type": "markdown",
   "metadata": {},
   "source": [
    "# Feedfoward network\n",
    "The sequential API is perfect in implementing feedforward network also known as multilayers perceptron (MLP).<br>\n",
    "In a multilayer perceptron (MLP) the input is fed into a series of hidden layers which produce an output: <br>\n",
    "For example a MLP with 3 hidden layers and one output layer can be written as: <br>\n",
    "<br>\n",
    "output = output_layer(layer_3(layer_2(layer_1(input))))"
   ]
  },
  {
   "cell_type": "code",
   "execution_count": 2,
   "metadata": {},
   "outputs": [
    {
     "name": "stdout",
     "output_type": "stream",
     "text": [
      "tf.Tensor([[1 2 3 5]], shape=(1, 4), dtype=int32)\n",
      "5\n"
     ]
    },
    {
     "name": "stderr",
     "output_type": "stream",
     "text": [
      "2021-09-06 09:35:44.370984: I tensorflow/core/platform/cpu_feature_guard.cc:142] This TensorFlow binary is optimized with oneAPI Deep Neural Network Library (oneDNN) to use the following CPU instructions in performance-critical operations:  AVX2 FMA\n",
      "To enable them in other operations, rebuild TensorFlow with the appropriate compiler flags.\n"
     ]
    }
   ],
   "source": [
    "# example 1\n",
    "layer_1 = Dense(units=5, activation='relu', name='first_layer')\n",
    "layer_2 = Dense(units=5, activation='relu', name='second_layer')\n",
    "layer_3 = Dense(units=5, activation='relu', name='third_layer')\n",
    "output_layer = Dense(units=1, activation='sigmoid')\n",
    "\n",
    "input_x = tf.constant([[1,2,3,5]], name='input_x')\n",
    "print(input_x)\n",
    "output_y = output_layer(layer_3(layer_2(layer_1(input_x))))\n",
    "print(layer_2.units)\n"
   ]
  },
  {
   "cell_type": "code",
   "execution_count": 28,
   "metadata": {},
   "outputs": [
    {
     "name": "stdout",
     "output_type": "stream",
     "text": [
      "Model: \"my_sequential_model\"\n",
      "_________________________________________________________________\n",
      "Layer (type)                 Output Shape              Param #   \n",
      "=================================================================\n",
      "first_layer (Dense)          (3, 64)                   256       \n",
      "_________________________________________________________________\n",
      "second_layer (Dense)         (3, 64)                   4160      \n",
      "_________________________________________________________________\n",
      "ouput_layer (Dense)          (3, 1)                    65        \n",
      "=================================================================\n",
      "Total params: 4,481\n",
      "Trainable params: 4,481\n",
      "Non-trainable params: 0\n",
      "_________________________________________________________________\n"
     ]
    }
   ],
   "source": [
    "# build a model with the sequential API\n",
    "def sequential_model() -> tf.keras.models:\n",
    "    \"\"\"Returns a sequential model.\n",
    "\n",
    "    Args:\n",
    "        units_per_layes: a list of units per layer.\n",
    "\n",
    "    Returns:\n",
    "        [type]: A tensorflow sequential model.\n",
    "    \"\"\"\n",
    "    return Sequential([\n",
    "        Dense(units=64, activation='relu', name='first_layer'),\n",
    "        Dense(units=64, activation='relu', name='second_layer'),\n",
    "        Dense(units=1, name='ouput_layer')\n",
    "    ], name='my_sequential_model')\n",
    "\n",
    "\n",
    "model = sequential_model()\n",
    "x = tf.ones((3, 3))\n",
    "y = model(x)\n",
    "model.summary()\n",
    "#plot_model(model)"
   ]
  },
  {
   "cell_type": "code",
   "execution_count": null,
   "metadata": {},
   "outputs": [],
   "source": []
  }
 ],
 "metadata": {
  "interpreter": {
   "hash": "50acb77785680e7eed7a116a61dcb469a9da0d7bf8b84f086ae254359e41c67f"
  },
  "kernelspec": {
   "display_name": "Python 3.8.4 64-bit ('venv': venv)",
   "name": "python3"
  },
  "language_info": {
   "codemirror_mode": {
    "name": "ipython",
    "version": 3
   },
   "file_extension": ".py",
   "mimetype": "text/x-python",
   "name": "python",
   "nbconvert_exporter": "python",
   "pygments_lexer": "ipython3",
   "version": "3.8.4"
  },
  "orig_nbformat": 4
 },
 "nbformat": 4,
 "nbformat_minor": 2
}