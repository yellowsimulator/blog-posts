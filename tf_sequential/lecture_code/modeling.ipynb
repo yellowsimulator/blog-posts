{
 "cells": [
  {
   "cell_type": "code",
   "execution_count": 1,
   "metadata": {},
   "outputs": [
    {
     "name": "stdout",
     "output_type": "stream",
     "text": [
      "Epoch 1/2\n",
      "1875/1875 [==============================] - 21s 11ms/step - loss: 0.4291 - accuracy: 0.8472 - val_loss: 0.3490 - val_accuracy: 0.8722\n",
      "Epoch 2/2\n",
      "1875/1875 [==============================] - 20s 11ms/step - loss: 0.3015 - accuracy: 0.8917 - val_loss: 0.3336 - val_accuracy: 0.8746\n",
      "INFO:tensorflow:Assets written to: /var/folders/y3/54j7fyvj515fskdh_r4fxhlw0000gn/T/1/assets\n"
     ]
    },
    {
     "data": {
      "text/plain": [
       "<Figure size 720x720 with 0 Axes>"
      ]
     },
     "metadata": {},
     "output_type": "display_data"
    }
   ],
   "source": [
    "from training import get_data\n",
    "from training import run_training\n",
    "from sequential_api_models import dense_model, cnn_model\n",
    "from params import hyperparams_dense\n",
    "\n",
    "\n",
    "data_name = 'fashion_mnist'\n",
    "model, model_name = dense_model(hyperparams_dense)\n",
    "model, model_name = cnn_model()\n",
    "task_name = f'{data_name} classification with {model_name}'\n",
    "train_X, train_y, test_X, test_y = get_data(data_name=data_name)\n",
    "run_training(model, task_name, hyperparams_dense, data_name=data_name)"
   ]
  }
 ],
 "metadata": {
  "interpreter": {
   "hash": "50acb77785680e7eed7a116a61dcb469a9da0d7bf8b84f086ae254359e41c67f"
  },
  "kernelspec": {
   "display_name": "Python 3.8.4 64-bit ('venv': venv)",
   "name": "python3"
  },
  "language_info": {
   "codemirror_mode": {
    "name": "ipython",
    "version": 3
   },
   "file_extension": ".py",
   "mimetype": "text/x-python",
   "name": "python",
   "nbconvert_exporter": "python",
   "pygments_lexer": "ipython3",
   "version": "3.8.4"
  },
  "orig_nbformat": 4
 },
 "nbformat": 4,
 "nbformat_minor": 2
}