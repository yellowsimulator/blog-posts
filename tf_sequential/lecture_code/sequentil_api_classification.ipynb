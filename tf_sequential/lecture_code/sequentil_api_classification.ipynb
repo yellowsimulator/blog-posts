{
 "cells": [
  {
   "cell_type": "markdown",
   "metadata": {},
   "source": [
    "# Introduction\n",
    "This is the first section of the series \"Three ways to build deep learning model in tensorflow\".<br>\n",
    "In this section you will learn about the sequential API. This API allows you to build deep learning model <br>\n",
    "by stacking layers on top of each other. In this example, the task is to classify digits (0, 1, ..., 9)."
   ]
  },
  {
   "cell_type": "markdown",
   "metadata": {},
   "source": [
    "# Import libraries\n"
   ]
  },
  {
   "cell_type": "code",
   "execution_count": 266,
   "metadata": {},
   "outputs": [
    {
     "name": "stdout",
     "output_type": "stream",
     "text": [
      "The tensorboard extension is already loaded. To reload it, use:\n",
      "  %reload_ext tensorboard\n"
     ]
    }
   ],
   "source": [
    "exp_number = 12\n",
    "\n",
    "import os\n",
    "os.environ['TF_CPP_MIN_LOG_LEVEL'] = '3' \n",
    "from tensorflow.keras.models import Sequential\n",
    "import tensorflow as tf\n",
    "import numpy as np\n",
    "from tensorflow.keras.models import load_model\n",
    "from sklearn.metrics import confusion_matrix\n",
    "import matplotlib.pyplot as plt\n",
    "from tensorflow.keras.metrics import Recall, Precision, AUC, CategoricalAccuracy\n",
    "from tensorflow.keras.layers import Dense, Flatten, BatchNormalization\n",
    "from tensorflow.keras.optimizers import Adam\n",
    "from tensorflow.keras.losses import SparseCategoricalCrossentropy\n",
    "from tensorflow.keras.layers import Input\n",
    "from tensorflow.keras.utils import plot_model\n",
    "from tensorflow.keras.callbacks import LambdaCallback\n",
    "from tensorflow.keras.callbacks import TensorBoard\n",
    "from tensorflow.keras.callbacks import ModelCheckpoint\n",
    "import warnings\n",
    "import datetime\n",
    "from tensorboard.plugins.hparams import api as hp\n",
    "warnings.filterwarnings('ignore')\n",
    "from utility_functions import plt_plot_to_tf_image\n",
    "from utility_functions import plot_images\n",
    "from utility_functions import plot_confusion_matrix\n",
    "\n",
    "%load_ext tensorboard"
   ]
  },
  {
   "cell_type": "markdown",
   "metadata": {},
   "source": [
    "# Feedfoward network\n",
    "The sequential API is perfect in implementing feedforward network also known as multilayers perceptron (MLP).<br>\n",
    "In a multilayer perceptron (MLP) the input is fed into a series of hidden layers which produce an output: <br>\n",
    "For example a MLP with 3 hidden layers and one output layer can be written as: <br>\n",
    "<br>\n",
    "output = output_layer(layer_3(layer_2(layer_1(input))))"
   ]
  },
  {
   "cell_type": "code",
   "execution_count": 267,
   "metadata": {},
   "outputs": [],
   "source": [
    "# example 1\n",
    "# layer_1 = Dense(units=5, activation='relu', name='first_layer')\n",
    "# layer_2 = Dense(units=5, activation='relu', name='second_layer')\n",
    "# layer_3 = Dense(units=5, activation='relu', name='third_layer')\n",
    "# output_layer = Dense(units=1, activation='sigmoid')\n",
    "\n",
    "# input_x = tf.constant([[1,2,3,5]], name='input_x')\n",
    "# print(input_x)\n",
    "# output_y = output_layer(layer_3(layer_2(layer_1(input_x))))\n",
    "# print(layer_2.units)\n"
   ]
  },
  {
   "cell_type": "markdown",
   "metadata": {},
   "source": [
    "# Load the MINIST data set and plot few images\n"
   ]
  },
  {
   "cell_type": "code",
   "execution_count": 268,
   "metadata": {},
   "outputs": [
    {
     "name": "stdout",
     "output_type": "stream",
     "text": [
      "Training data shape  (60000, 28, 28)\n",
      "Test data shape  (10000, 28, 28)\n"
     ]
    }
   ],
   "source": [
    "dataset = tf.keras.datasets.mnist\n",
    "(train_X, train_y), (test_X, test_y) = dataset.load_data()\n",
    "print('Training data shape ', train_X.shape)\n",
    "print('Test data shape ', test_X.shape)"
   ]
  },
  {
   "cell_type": "code",
   "execution_count": 269,
   "metadata": {},
   "outputs": [
    {
     "data": {
      "image/png": "[encoded data removed]",
      "text/plain": [
       "<Figure size 720x720 with 25 Axes>"
      ]
     },
     "metadata": {},
     "output_type": "display_data"
    }
   ],
   "source": [
    "# plot few images images\n",
    "nb_images = 20\n",
    "figure = plot_images(nb_images, train_X, train_y)\n",
    "##"
   ]
  },
  {
   "cell_type": "markdown",
   "metadata": {},
   "source": [
    "# Build a model with the sequential API"
   ]
  },
  {
   "cell_type": "code",
   "execution_count": 270,
   "metadata": {},
   "outputs": [],
   "source": [
    "log_dir = \"logs/fit/\" + datetime.datetime.now().strftime(\"%Y/%m/%d %H:%M:%S\")\n",
    "plot_writer = tf.summary.create_file_writer(log_dir)\n",
    "test_writer = tf.summary.create_file_writer(f'{log_dir}/some_text')\n",
    "hyper_params_writer = tf.summary.create_file_writer(f'{log_dir}/hparam_tuning')\n",
    "figure = plot_images(nb_images, train_X, train_y, plot_image=False)\n",
    "HP_OPTIMIZER = hp.HParam('optimizer', hp.Discrete(['adam', 'sgd']))\n",
    "METRIC_ACCURACY = 'accuracy'\n",
    "\n",
    "with plot_writer.as_default():\n",
    "    tf.summary.image('sample hand written digits', plt_plot_to_tf_image(figure), step=0)\n",
    "\n",
    "with test_writer.as_default():\n",
    "    tf.summary.text('experiment', f'experiment_{exp_number}', step=0)\n",
    "\n",
    "with hyper_params_writer.as_default():\n",
    "    hp.hparams_config(\n",
    "        hparams=[HP_OPTIMIZER],\n",
    "        metrics=[hp.Metric(METRIC_ACCURACY)]\n",
    "    )\n",
    "\n",
    "    "
   ]
  },
  {
   "cell_type": "code",
   "execution_count": 289,
   "metadata": {},
   "outputs": [],
   "source": [
    "# set model parameters\n",
    "\n",
    "\n",
    "first_layer_units = 128\n",
    "second_layer_units = 128\n",
    "output_layer_units = 10\n",
    "\n",
    "sequential_model = Sequential([\n",
    "        Flatten(input_shape=(28, 28), name='input_layer'),\n",
    "\n",
    "        BatchNormalization(),\n",
    "        Dense(units=first_layer_units, activation='relu', name='first_layer'),\n",
    "        Dense(units=second_layer_units, activation='relu', name='second_layer'),\n",
    "        #tf.keras.layers.Dropout(0.2),\n",
    "        Dense(units=output_layer_units, activation='softmax', name='output_layer')\n",
    "    ], name='senquential_classifier')\n",
    "\n",
    "\n",
    "# # model summary\n",
    "#sequential_model.summary()"
   ]
  },
  {
   "cell_type": "code",
   "execution_count": 288,
   "metadata": {},
   "outputs": [],
   "source": [
    "# model architecture plot\n",
    "#plot_model(sequential_model)"
   ]
  },
  {
   "cell_type": "markdown",
   "metadata": {},
   "source": [
    "# Compile the model"
   ]
  },
  {
   "cell_type": "code",
   "execution_count": 273,
   "metadata": {},
   "outputs": [],
   "source": [
    "sequential_model.compile(\n",
    "    optimizer='sgd',\n",
    "    loss=SparseCategoricalCrossentropy(),\n",
    "    metrics=['accuracy']\n",
    ")\n"
   ]
  },
  {
   "cell_type": "markdown",
   "metadata": {},
   "source": [
    "# Fit the model"
   ]
  },
  {
   "cell_type": "code",
   "execution_count": 274,
   "metadata": {},
   "outputs": [
    {
     "name": "stdout",
     "output_type": "stream",
     "text": [
      "Epoch 1/20\n",
      "1875/1875 [==============================] - 3s 1ms/step - loss: 0.4737 - accuracy: 0.8618 - val_loss: 0.3357 - val_accuracy: 0.9330\n",
      "Epoch 2/20\n",
      "1875/1875 [==============================] - 3s 1ms/step - loss: 0.1985 - accuracy: 0.9396 - val_loss: 0.2355 - val_accuracy: 0.9522\n",
      "Epoch 3/20\n",
      "1875/1875 [==============================] - 2s 1ms/step - loss: 0.1520 - accuracy: 0.9542 - val_loss: 0.2396 - val_accuracy: 0.9576\n",
      "Epoch 4/20\n",
      "1875/1875 [==============================] - 3s 1ms/step - loss: 0.1224 - accuracy: 0.9625 - val_loss: 0.3758 - val_accuracy: 0.9619\n",
      "Epoch 5/20\n",
      "1875/1875 [==============================] - 2s 1ms/step - loss: 0.1036 - accuracy: 0.9684 - val_loss: 0.3352 - val_accuracy: 0.9631\n",
      "Epoch 6/20\n",
      "1875/1875 [==============================] - 2s 1ms/step - loss: 0.0893 - accuracy: 0.9722 - val_loss: 0.2272 - val_accuracy: 0.9666\n",
      "Epoch 7/20\n",
      "1875/1875 [==============================] - 2s 1ms/step - loss: 0.0778 - accuracy: 0.9761 - val_loss: 0.2815 - val_accuracy: 0.9684\n",
      "Epoch 8/20\n",
      "1875/1875 [==============================] - 2s 1ms/step - loss: 0.0697 - accuracy: 0.9787 - val_loss: 0.2540 - val_accuracy: 0.9676\n",
      "Epoch 9/20\n",
      "1875/1875 [==============================] - 2s 1ms/step - loss: 0.0622 - accuracy: 0.9801 - val_loss: 0.2868 - val_accuracy: 0.9673\n",
      "Epoch 10/20\n",
      "1875/1875 [==============================] - 2s 1ms/step - loss: 0.0545 - accuracy: 0.9833 - val_loss: 0.3500 - val_accuracy: 0.9690\n",
      "Epoch 11/20\n",
      "1875/1875 [==============================] - 2s 1ms/step - loss: 0.0502 - accuracy: 0.9847 - val_loss: 0.4454 - val_accuracy: 0.9709\n",
      "Epoch 12/20\n",
      "1875/1875 [==============================] - 2s 1ms/step - loss: 0.0447 - accuracy: 0.9860 - val_loss: 0.2657 - val_accuracy: 0.9694\n",
      "Epoch 13/20\n",
      "1875/1875 [==============================] - 2s 1ms/step - loss: 0.0405 - accuracy: 0.9875 - val_loss: 0.2573 - val_accuracy: 0.9694\n",
      "Epoch 14/20\n",
      "1875/1875 [==============================] - 2s 1ms/step - loss: 0.0380 - accuracy: 0.9880 - val_loss: 0.3486 - val_accuracy: 0.9689\n",
      "Epoch 15/20\n",
      "1875/1875 [==============================] - 2s 1ms/step - loss: 0.0349 - accuracy: 0.9892 - val_loss: 0.4925 - val_accuracy: 0.9692\n",
      "Epoch 16/20\n",
      "1875/1875 [==============================] - 2s 1ms/step - loss: 0.0324 - accuracy: 0.9895 - val_loss: 0.3094 - val_accuracy: 0.9693\n",
      "Epoch 17/20\n",
      "1875/1875 [==============================] - 2s 1ms/step - loss: 0.0288 - accuracy: 0.9909 - val_loss: 0.5270 - val_accuracy: 0.9681\n",
      "Epoch 18/20\n",
      "1875/1875 [==============================] - 2s 1ms/step - loss: 0.0269 - accuracy: 0.9913 - val_loss: 0.5103 - val_accuracy: 0.9683\n",
      "Epoch 19/20\n",
      "1875/1875 [==============================] - 2s 1ms/step - loss: 0.0257 - accuracy: 0.9916 - val_loss: 0.4464 - val_accuracy: 0.9687\n",
      "Epoch 20/20\n",
      "1875/1875 [==============================] - 2s 1ms/step - loss: 0.0233 - accuracy: 0.9925 - val_loss: 0.4679 - val_accuracy: 0.9705\n",
      "INFO:tensorflow:Assets written to: saved_model/sequential_model/assets\n"
     ]
    }
   ],
   "source": [
    "# import datetime\n",
    "# log_dir = \"logs/fit/\" + datetime.datetime.now().strftime(\"%Y%m%d-%H%M%S\")\n",
    "def log_confusion_matrix(epoch, logs):\n",
    "    test_pred_raw = sequential_model.predict(test_X)\n",
    "    test_pred = np.argmax(test_pred_raw, axis=1)\n",
    "    cm = confusion_matrix(test_y, test_pred)\n",
    "    class_names = [0,1,2,3,4,5,6,7,8,9]\n",
    "    figure = plot_confusion_matrix(cm, class_names)\n",
    "    cm_image = plt_plot_to_tf_image(figure)\n",
    "    with file_writer_cm.as_default():\n",
    "        tf.summary.image(\"Confusion Matrix\", cm_image, step=epoch)\n",
    "\n",
    "\n",
    "# define call back functions\n",
    "tensorboard_callback = TensorBoard(log_dir=log_dir, histogram_freq=2)\n",
    "confusion_matrix_callback = LambdaCallback(on_epoch_end=log_confusion_matrix)\n",
    "checkpoint_filepath = '/tmp/checkpoint'\n",
    "\n",
    "model_checkpoint_callback = ModelCheckpoint(\n",
    "    filepath=checkpoint_filepath,\n",
    "    save_best_only=True,\n",
    "    monitor='val_accuracy',\n",
    "    mode='max')\n",
    "file_writer_cm = tf.summary.create_file_writer(log_dir + '/cm')\n",
    "\n",
    "\n",
    "# fit the model\n",
    "sequential_model.fit(x=train_X, \n",
    "                     y=train_y, \n",
    "                     epochs=20, \n",
    "                     validation_data=(test_X, test_y),\n",
    "                     callbacks=[tensorboard_callback, confusion_matrix_callback]\n",
    "                     )\n",
    "sequential_model.save('saved_model/sequential_model') "
   ]
  },
  {
   "cell_type": "code",
   "execution_count": 275,
   "metadata": {},
   "outputs": [],
   "source": [
    "#!tensorboard --logdir=logs/fit --host localhost --port 8089"
   ]
  },
  {
   "cell_type": "code",
   "execution_count": 276,
   "metadata": {},
   "outputs": [
    {
     "name": "stdout",
     "output_type": "stream",
     "text": [
      "Model: \"senquential_classifier\"\n",
      "_________________________________________________________________\n",
      "Layer (type)                 Output Shape              Param #   \n",
      "=================================================================\n",
      "input_layer (Flatten)        (None, 784)               0         \n",
      "_________________________________________________________________\n",
      "batch_normalization_10 (Batc (None, 784)               3136      \n",
      "_________________________________________________________________\n",
      "first_layer (Dense)          (None, 128)               100480    \n",
      "_________________________________________________________________\n",
      "second_layer (Dense)         (None, 128)               16512     \n",
      "_________________________________________________________________\n",
      "output_layer (Dense)         (None, 10)                1290      \n",
      "=================================================================\n",
      "Total params: 121,418\n",
      "Trainable params: 119,850\n",
      "Non-trainable params: 1,568\n",
      "_________________________________________________________________\n"
     ]
    }
   ],
   "source": [
    "new_model = load_model('saved_model/sequential_model')\n",
    "new_model.summary()"
   ]
  },
  {
   "cell_type": "code",
   "execution_count": 277,
   "metadata": {},
   "outputs": [
    {
     "name": "stdout",
     "output_type": "stream",
     "text": [
      "313/313 - 0s - loss: 0.4679 - accuracy: 0.9705\n",
      "validation loss: 0.47, validation accuracy: 0.97\n"
     ]
    }
   ],
   "source": [
    "loss, acc = new_model.evaluate(test_X, test_y, verbose=2)\n",
    "print(f'validation loss: {loss:.2}, validation accuracy: {acc:.2}')\n"
   ]
  },
  {
   "cell_type": "code",
   "execution_count": 278,
   "metadata": {},
   "outputs": [
    {
     "data": {
      "text/plain": [
       "array([[3.2475114e-06, 4.8557913e-09, 1.3508308e-05, ..., 9.9996305e-01,\n",
       "        4.1887397e-06, 1.0114120e-05],\n",
       "       [1.9252600e-08, 4.5957628e-07, 9.9999952e-01, ..., 4.9375803e-12,\n",
       "        1.7833127e-13, 2.5099663e-21],\n",
       "       [2.2705171e-06, 9.9910152e-01, 1.7990951e-05, ..., 3.3832673e-04,\n",
       "        4.8514231e-04, 3.4019288e-06],\n",
       "       ...,\n",
       "       [1.1375439e-15, 1.7187140e-14, 1.6171590e-14, ..., 4.7312092e-09,\n",
       "        2.0259479e-10, 4.3175586e-07],\n",
       "       [2.2715264e-16, 8.3228221e-13, 4.1819192e-14, ..., 1.9667349e-12,\n",
       "        1.0854677e-06, 2.0288407e-16],\n",
       "       [8.6606416e-11, 5.8132770e-09, 1.4644265e-12, ..., 7.1597182e-13,\n",
       "        3.3826067e-12, 5.5045738e-12]], dtype=float32)"
      ]
     },
     "execution_count": 278,
     "metadata": {},
     "output_type": "execute_result"
    }
   ],
   "source": [
    "pred_y = new_model.predict(test_X)\n",
    "pred_y"
   ]
  },
  {
   "cell_type": "code",
   "execution_count": 279,
   "metadata": {},
   "outputs": [
    {
     "data": {
      "text/plain": [
       "array([7, 2, 1, ..., 4, 5, 6], dtype=uint8)"
      ]
     },
     "execution_count": 279,
     "metadata": {},
     "output_type": "execute_result"
    }
   ],
   "source": [
    "test_y"
   ]
  },
  {
   "cell_type": "code",
   "execution_count": 280,
   "metadata": {},
   "outputs": [
    {
     "data": {
      "text/plain": [
       "(10000, 10)"
      ]
     },
     "execution_count": 280,
     "metadata": {},
     "output_type": "execute_result"
    }
   ],
   "source": [
    "pred_y.shape"
   ]
  },
  {
   "cell_type": "code",
   "execution_count": 281,
   "metadata": {},
   "outputs": [],
   "source": [
    "k = 1\n",
    "x = np.array([test_X[k]])"
   ]
  },
  {
   "cell_type": "code",
   "execution_count": 282,
   "metadata": {},
   "outputs": [
    {
     "data": {
      "text/plain": [
       "array([[1.92525640e-08, 4.59577620e-07, 9.99999523e-01, 2.24445923e-13,\n",
       "        1.37771765e-19, 1.07582714e-10, 1.44757040e-10, 4.93758983e-12,\n",
       "        1.78331267e-13, 2.50995658e-21]], dtype=float32)"
      ]
     },
     "execution_count": 282,
     "metadata": {},
     "output_type": "execute_result"
    }
   ],
   "source": [
    "y = new_model.predict(x)\n",
    "y"
   ]
  },
  {
   "cell_type": "code",
   "execution_count": 283,
   "metadata": {},
   "outputs": [
    {
     "data": {
      "text/plain": [
       "2"
      ]
     },
     "execution_count": 283,
     "metadata": {},
     "output_type": "execute_result"
    }
   ],
   "source": [
    "y_true = test_y[k]\n",
    "y_true"
   ]
  },
  {
   "cell_type": "code",
   "execution_count": 284,
   "metadata": {},
   "outputs": [
    {
     "data": {
      "text/plain": [
       "array([7, 2, 1, ..., 4, 5, 6])"
      ]
     },
     "execution_count": 284,
     "metadata": {},
     "output_type": "execute_result"
    }
   ],
   "source": [
    "predicted_labels = np.argmax(pred_y, axis=1)\n",
    "predicted_labels"
   ]
  },
  {
   "cell_type": "code",
   "execution_count": 285,
   "metadata": {},
   "outputs": [
    {
     "data": {
      "text/plain": [
       "array([7, 2, 1, ..., 4, 5, 6])"
      ]
     },
     "execution_count": 285,
     "metadata": {},
     "output_type": "execute_result"
    }
   ],
   "source": [
    "true_labels = test_y.astype(int)\n",
    "true_labels"
   ]
  },
  {
   "cell_type": "code",
   "execution_count": 286,
   "metadata": {},
   "outputs": [],
   "source": [
    "cm = confusion_matrix(true_labels, predicted_labels)\n"
   ]
  },
  {
   "cell_type": "code",
   "execution_count": null,
   "metadata": {},
   "outputs": [],
   "source": []
  },
  {
   "cell_type": "code",
   "execution_count": 287,
   "metadata": {},
   "outputs": [
    {
     "data": {
      "image/png": "[encoded data removed]",
      "text/plain": [
       "<Figure size 576x576 with 2 Axes>"
      ]
     },
     "execution_count": 287,
     "metadata": {},
     "output_type": "execute_result"
    },
    {
     "data": {
      "image/png": "[encoded data removed]",
      "text/plain": [
       "<Figure size 576x576 with 2 Axes>"
      ]
     },
     "metadata": {
      "needs_background": "light"
     },
     "output_type": "display_data"
    }
   ],
   "source": [
    "class_names = [0,1,2,3,4,5,6,7,9]\n",
    "plot_confusion_matrix(cm, class_names)"
   ]
  }
 ],
 "metadata": {
  "interpreter": {
   "hash": "50acb77785680e7eed7a116a61dcb469a9da0d7bf8b84f086ae254359e41c67f"
  },
  "kernelspec": {
   "display_name": "Python 3.8.4 64-bit ('venv': venv)",
   "name": "python3"
  },
  "language_info": {
   "codemirror_mode": {
    "name": "ipython",
    "version": 3
   },
   "file_extension": ".py",
   "mimetype": "text/x-python",
   "name": "python",
   "nbconvert_exporter": "python",
   "pygments_lexer": "ipython3",
   "version": "3.8.4"
  },
  "orig_nbformat": 4
 },
 "nbformat": 4,
 "nbformat_minor": 2
}