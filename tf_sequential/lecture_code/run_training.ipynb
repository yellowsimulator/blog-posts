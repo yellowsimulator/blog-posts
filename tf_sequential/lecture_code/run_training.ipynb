{
 "cells": [
  {
   "cell_type": "code",
   "execution_count": null,
   "metadata": {},
   "outputs": [],
   "source": [
    "from training import get_data\n",
    "from training import run_training#\n",
    "from sequential_api_models import dense_model, cnn_model\n",
    "from params import hyperparams_dense\n",
    "\n",
    "\n",
    "data_name = 'fashion_mnist'\n",
    "#model, model_name = dense_model(hyperparams_dense)\n",
    "model, model_name = cnn_model()\n",
    "task_name = f'{data_name} classification with {model_name}'\n",
    "train_X, train_y, test_X, test_y = get_data(data_name=data_name)\n",
    "run_training(model, task_name, hyperparams_dense, data_name=data_name)"
   ]
  }
 ],
 "metadata": {
  "interpreter": {
   "hash": "50acb77785680e7eed7a116a61dcb469a9da0d7bf8b84f086ae254359e41c67f"
  },
  "kernelspec": {
   "display_name": "Python 3.8.4 64-bit ('venv': venv)",
   "name": "python3"
  },
  "language_info": {
   "codemirror_mode": {
    "name": "ipython",
    "version": 3
   },
   "file_extension": ".py",
   "mimetype": "text/x-python",
   "name": "python",
   "nbconvert_exporter": "python",
   "pygments_lexer": "ipython3",
   "version": "3.8.4"
  },
  "orig_nbformat": 4
 },
 "nbformat": 4,
 "nbformat_minor": 2
}